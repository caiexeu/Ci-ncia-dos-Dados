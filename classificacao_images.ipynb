{
 "cells": [
  {
   "cell_type": "markdown",
   "metadata": {},
   "source": [
    "## IMPORTANTO BIBLIOTECAS"
   ]
  },
  {
   "cell_type": "code",
   "execution_count": 1,
   "metadata": {},
   "outputs": [],
   "source": [
    "from sklearn.manifold import TSNE\n",
    "from sklearn.model_selection import train_test_split, cross_val_score, cross_val_predict\n",
    "from sklearn.metrics import confusion_matrix, ConfusionMatrixDisplay\n",
    "\n",
    "from tensorflow.keras.preprocessing import image\n",
    "from tensorflow import keras\n",
    "\n",
    "import tensorflow as tf\n",
    "import matplotlib.pyplot as plt\n",
    "import pandas as pd\n",
    "import numpy as np\n",
    "import seaborn as sns\n",
    "\n",
    "import os"
   ]
  },
  {
   "cell_type": "markdown",
   "metadata": {},
   "source": [
    "## PARÂMETROS"
   ]
  },
  {
   "cell_type": "code",
   "execution_count": 2,
   "metadata": {},
   "outputs": [],
   "source": [
    "percentege_test_size = 0.2\n",
    "undersampling_size = 1300 # -1 para não fazer undersampling\n",
    "\n",
    "# fig preprocessing\n",
    "largura = 100\n",
    "altura = 100\n",
    "modo_de_cor = 'rgb' # rgb, grayscale, rgba\n",
    "# fig preprocessing\n",
    "\n",
    "# diretorio = '../dados classificacao imagens/star-wars/'\n",
    "# diretorio = '../dados classificacao imagens/animais-kaggle/'\n",
    "# diretorio = '../dados classificacao imagens/dataset-documentos-full/'\n",
    "diretorio = '../dados classificacao imagens/pneumonia/'"
   ]
  },
  {
   "cell_type": "markdown",
   "metadata": {},
   "source": [
    "### CARREGANDO DATASET"
   ]
  },
  {
   "cell_type": "code",
   "execution_count": 3,
   "metadata": {},
   "outputs": [
    {
     "data": {
      "text/html": [
       "<div>\n",
       "<style scoped>\n",
       "    .dataframe tbody tr th:only-of-type {\n",
       "        vertical-align: middle;\n",
       "    }\n",
       "\n",
       "    .dataframe tbody tr th {\n",
       "        vertical-align: top;\n",
       "    }\n",
       "\n",
       "    .dataframe thead th {\n",
       "        text-align: right;\n",
       "    }\n",
       "</style>\n",
       "<table border=\"1\" class=\"dataframe\">\n",
       "  <thead>\n",
       "    <tr style=\"text-align: right;\">\n",
       "      <th></th>\n",
       "      <th>image</th>\n",
       "      <th>target</th>\n",
       "    </tr>\n",
       "  </thead>\n",
       "  <tbody>\n",
       "    <tr>\n",
       "      <th>0</th>\n",
       "      <td>../dados classificacao imagens/pneumonia/NORMA...</td>\n",
       "      <td>0</td>\n",
       "    </tr>\n",
       "    <tr>\n",
       "      <th>1</th>\n",
       "      <td>../dados classificacao imagens/pneumonia/NORMA...</td>\n",
       "      <td>0</td>\n",
       "    </tr>\n",
       "    <tr>\n",
       "      <th>2</th>\n",
       "      <td>../dados classificacao imagens/pneumonia/NORMA...</td>\n",
       "      <td>0</td>\n",
       "    </tr>\n",
       "    <tr>\n",
       "      <th>3</th>\n",
       "      <td>../dados classificacao imagens/pneumonia/PNEUM...</td>\n",
       "      <td>1</td>\n",
       "    </tr>\n",
       "    <tr>\n",
       "      <th>4</th>\n",
       "      <td>../dados classificacao imagens/pneumonia/NORMA...</td>\n",
       "      <td>0</td>\n",
       "    </tr>\n",
       "    <tr>\n",
       "      <th>...</th>\n",
       "      <td>...</td>\n",
       "      <td>...</td>\n",
       "    </tr>\n",
       "    <tr>\n",
       "      <th>2595</th>\n",
       "      <td>../dados classificacao imagens/pneumonia/PNEUM...</td>\n",
       "      <td>1</td>\n",
       "    </tr>\n",
       "    <tr>\n",
       "      <th>2596</th>\n",
       "      <td>../dados classificacao imagens/pneumonia/PNEUM...</td>\n",
       "      <td>1</td>\n",
       "    </tr>\n",
       "    <tr>\n",
       "      <th>2597</th>\n",
       "      <td>../dados classificacao imagens/pneumonia/PNEUM...</td>\n",
       "      <td>1</td>\n",
       "    </tr>\n",
       "    <tr>\n",
       "      <th>2598</th>\n",
       "      <td>../dados classificacao imagens/pneumonia/NORMA...</td>\n",
       "      <td>0</td>\n",
       "    </tr>\n",
       "    <tr>\n",
       "      <th>2599</th>\n",
       "      <td>../dados classificacao imagens/pneumonia/PNEUM...</td>\n",
       "      <td>1</td>\n",
       "    </tr>\n",
       "  </tbody>\n",
       "</table>\n",
       "<p>2600 rows × 2 columns</p>\n",
       "</div>"
      ],
      "text/plain": [
       "                                                  image  target\n",
       "0     ../dados classificacao imagens/pneumonia/NORMA...       0\n",
       "1     ../dados classificacao imagens/pneumonia/NORMA...       0\n",
       "2     ../dados classificacao imagens/pneumonia/NORMA...       0\n",
       "3     ../dados classificacao imagens/pneumonia/PNEUM...       1\n",
       "4     ../dados classificacao imagens/pneumonia/NORMA...       0\n",
       "...                                                 ...     ...\n",
       "2595  ../dados classificacao imagens/pneumonia/PNEUM...       1\n",
       "2596  ../dados classificacao imagens/pneumonia/PNEUM...       1\n",
       "2597  ../dados classificacao imagens/pneumonia/PNEUM...       1\n",
       "2598  ../dados classificacao imagens/pneumonia/NORMA...       0\n",
       "2599  ../dados classificacao imagens/pneumonia/PNEUM...       1\n",
       "\n",
       "[2600 rows x 2 columns]"
      ]
     },
     "execution_count": 3,
     "metadata": {},
     "output_type": "execute_result"
    }
   ],
   "source": [
    "targets = [x[0].replace(diretorio,'') for x in os.walk(diretorio)]\n",
    "\n",
    "targets = targets[1:len(targets)] # exclui o primeiro da lista pq é o próprio diretório\n",
    "\n",
    "dados = []\n",
    "\n",
    "class_to_int = {}\n",
    "\n",
    "k = 0\n",
    "\n",
    "for classe in targets:\n",
    "    imagens = os.listdir(diretorio+classe)\n",
    "    i = 0\n",
    "    class_to_int[classe] = k\n",
    "    k+=1\n",
    "    for img in imagens:\n",
    "        i+=1\n",
    "        \n",
    "        if (not '.txt' in img) and (not 'segmentation' in img) and (not 'desktop.ini' in img):\n",
    "            dados.append([diretorio+classe+'/'+img,class_to_int[classe]])\n",
    "        \n",
    "        if(i == undersampling_size and undersampling_size != -1):\n",
    "            break\n",
    "\n",
    "dados = np.array(dados)\n",
    "\n",
    "np.random.shuffle(dados)\n",
    "            \n",
    "df_dados = pd.DataFrame(dados,columns=['image','target'])\n",
    "\n",
    "df_dados['target'] = df_dados['target'].astype('int64', copy=False)\n",
    "\n",
    "df_dados"
   ]
  },
  {
   "cell_type": "code",
   "execution_count": 4,
   "metadata": {},
   "outputs": [
    {
     "data": {
      "text/plain": [
       "0    1300\n",
       "1    1300\n",
       "Name: target, dtype: int64"
      ]
     },
     "execution_count": 4,
     "metadata": {},
     "output_type": "execute_result"
    }
   ],
   "source": [
    "df_dados['target'].value_counts()"
   ]
  },
  {
   "cell_type": "code",
   "execution_count": null,
   "metadata": {},
   "outputs": [],
   "source": []
  },
  {
   "cell_type": "markdown",
   "metadata": {},
   "source": [
    "## PREPARANDO DADOS"
   ]
  },
  {
   "cell_type": "code",
   "execution_count": 5,
   "metadata": {},
   "outputs": [],
   "source": [
    "def embedding(img_path,largura,altura,modo_de_cor):\n",
    "    img = image.load_img(img_path, target_size=(largura, altura),color_mode= modo_de_cor)\n",
    "    embed = image.img_to_array(img)\n",
    "\n",
    "    return embed"
   ]
  },
  {
   "cell_type": "code",
   "execution_count": null,
   "metadata": {},
   "outputs": [],
   "source": []
  },
  {
   "cell_type": "code",
   "execution_count": 6,
   "metadata": {},
   "outputs": [],
   "source": [
    "y_full = df_dados['target'].array.to_numpy()\n",
    "\n",
    "X_full  = []\n",
    "for x in dados:\n",
    "    X_full.append(embedding(x[0],largura,altura,modo_de_cor))\n",
    "\n",
    "X_full = np.array(X_full)\n"
   ]
  },
  {
   "cell_type": "code",
   "execution_count": null,
   "metadata": {},
   "outputs": [],
   "source": []
  },
  {
   "cell_type": "code",
   "execution_count": 7,
   "metadata": {},
   "outputs": [],
   "source": [
    "model_test_size = int(len(y_full) * percentege_test_size)\n",
    "\n",
    "X_test, X_train = X_full[:model_test_size] / 255.0, X_full[model_test_size:] / 255.0\n",
    "y_test, y_train = y_full[:model_test_size], y_full[model_test_size:]"
   ]
  },
  {
   "cell_type": "code",
   "execution_count": null,
   "metadata": {},
   "outputs": [],
   "source": []
  },
  {
   "cell_type": "markdown",
   "metadata": {},
   "source": [
    "## TREINANDO E VALIDANDO O MODELO"
   ]
  },
  {
   "cell_type": "code",
   "execution_count": 8,
   "metadata": {},
   "outputs": [
    {
     "name": "stderr",
     "output_type": "stream",
     "text": [
      "2022-05-19 19:39:59.277478: I tensorflow/stream_executor/cuda/cuda_gpu_executor.cc:937] successful NUMA node read from SysFS had negative value (-1), but there must be at least one NUMA node, so returning NUMA node zero\n",
      "2022-05-19 19:39:59.302441: I tensorflow/stream_executor/cuda/cuda_gpu_executor.cc:937] successful NUMA node read from SysFS had negative value (-1), but there must be at least one NUMA node, so returning NUMA node zero\n",
      "2022-05-19 19:39:59.302597: I tensorflow/stream_executor/cuda/cuda_gpu_executor.cc:937] successful NUMA node read from SysFS had negative value (-1), but there must be at least one NUMA node, so returning NUMA node zero\n",
      "2022-05-19 19:39:59.303120: I tensorflow/core/platform/cpu_feature_guard.cc:142] This TensorFlow binary is optimized with oneAPI Deep Neural Network Library (oneDNN) to use the following CPU instructions in performance-critical operations:  AVX2 FMA\n",
      "To enable them in other operations, rebuild TensorFlow with the appropriate compiler flags.\n",
      "2022-05-19 19:39:59.304047: I tensorflow/stream_executor/cuda/cuda_gpu_executor.cc:937] successful NUMA node read from SysFS had negative value (-1), but there must be at least one NUMA node, so returning NUMA node zero\n",
      "2022-05-19 19:39:59.304363: I tensorflow/stream_executor/cuda/cuda_gpu_executor.cc:937] successful NUMA node read from SysFS had negative value (-1), but there must be at least one NUMA node, so returning NUMA node zero\n",
      "2022-05-19 19:39:59.304468: I tensorflow/stream_executor/cuda/cuda_gpu_executor.cc:937] successful NUMA node read from SysFS had negative value (-1), but there must be at least one NUMA node, so returning NUMA node zero\n",
      "2022-05-19 19:39:59.653048: I tensorflow/stream_executor/cuda/cuda_gpu_executor.cc:937] successful NUMA node read from SysFS had negative value (-1), but there must be at least one NUMA node, so returning NUMA node zero\n",
      "2022-05-19 19:39:59.653199: I tensorflow/stream_executor/cuda/cuda_gpu_executor.cc:937] successful NUMA node read from SysFS had negative value (-1), but there must be at least one NUMA node, so returning NUMA node zero\n",
      "2022-05-19 19:39:59.653303: I tensorflow/stream_executor/cuda/cuda_gpu_executor.cc:937] successful NUMA node read from SysFS had negative value (-1), but there must be at least one NUMA node, so returning NUMA node zero\n",
      "2022-05-19 19:39:59.653385: I tensorflow/core/common_runtime/gpu/gpu_device.cc:1510] Created device /job:localhost/replica:0/task:0/device:GPU:0 with 4360 MB memory:  -> device: 0, name: NVIDIA GeForce RTX 2060, pci bus id: 0000:01:00.0, compute capability: 7.5\n"
     ]
    }
   ],
   "source": [
    "shape_entrada = (largura,altura,1)\n",
    "\n",
    "if(modo_de_cor == 'rgb'):\n",
    "    shape_entrada = (largura,altura,3)\n",
    "\n",
    "if(modo_de_cor == 'rgba'):\n",
    "    shape_entrada = (largura,altura,4)\n",
    "\n",
    "model = keras.models.Sequential([\n",
    "    \n",
    "########## Conv\n",
    "    \n",
    "keras.layers.InputLayer(input_shape=shape_entrada),\n",
    "keras.layers.Conv2D(25, (5, 5), activation='relu', strides=(1, 1), padding='same'),\n",
    "keras.layers.MaxPool2D(pool_size=(2, 2), padding='same'),\n",
    "keras.layers.Conv2D(50, (5, 5), activation='relu', strides=(2, 2), padding='same'),\n",
    "keras.layers.MaxPool2D(pool_size=(2, 2), padding='same'),\n",
    "keras.layers.BatchNormalization(),\n",
    "keras.layers.Conv2D(70, (3, 3), activation='relu', strides=(2, 2), padding='same'),\n",
    "keras.layers.MaxPool2D(pool_size=(2, 2), padding='valid'),\n",
    "keras.layers.BatchNormalization(),\n",
    "keras.layers.Flatten(),\n",
    "keras.layers.Dense(units=100, activation='relu'),\n",
    "keras.layers.Dense(units=100, activation='relu'),\n",
    "keras.layers.Dropout(0.25),\n",
    "\n",
    "    \n",
    "keras.layers.Dense(len(np.unique(y_train)), activation=\"softmax\")\n",
    "])"
   ]
  },
  {
   "cell_type": "code",
   "execution_count": 9,
   "metadata": {},
   "outputs": [
    {
     "name": "stdout",
     "output_type": "stream",
     "text": [
      "Model: \"sequential\"\n",
      "_________________________________________________________________\n",
      "Layer (type)                 Output Shape              Param #   \n",
      "=================================================================\n",
      "conv2d (Conv2D)              (None, 100, 100, 25)      1900      \n",
      "_________________________________________________________________\n",
      "max_pooling2d (MaxPooling2D) (None, 50, 50, 25)        0         \n",
      "_________________________________________________________________\n",
      "conv2d_1 (Conv2D)            (None, 25, 25, 50)        31300     \n",
      "_________________________________________________________________\n",
      "max_pooling2d_1 (MaxPooling2 (None, 13, 13, 50)        0         \n",
      "_________________________________________________________________\n",
      "batch_normalization (BatchNo (None, 13, 13, 50)        200       \n",
      "_________________________________________________________________\n",
      "conv2d_2 (Conv2D)            (None, 7, 7, 70)          31570     \n",
      "_________________________________________________________________\n",
      "max_pooling2d_2 (MaxPooling2 (None, 3, 3, 70)          0         \n",
      "_________________________________________________________________\n",
      "batch_normalization_1 (Batch (None, 3, 3, 70)          280       \n",
      "_________________________________________________________________\n",
      "flatten (Flatten)            (None, 630)               0         \n",
      "_________________________________________________________________\n",
      "dense (Dense)                (None, 100)               63100     \n",
      "_________________________________________________________________\n",
      "dense_1 (Dense)              (None, 100)               10100     \n",
      "_________________________________________________________________\n",
      "dropout (Dropout)            (None, 100)               0         \n",
      "_________________________________________________________________\n",
      "dense_2 (Dense)              (None, 2)                 202       \n",
      "=================================================================\n",
      "Total params: 138,652\n",
      "Trainable params: 138,412\n",
      "Non-trainable params: 240\n",
      "_________________________________________________________________\n"
     ]
    }
   ],
   "source": [
    "model.summary()"
   ]
  },
  {
   "cell_type": "code",
   "execution_count": 10,
   "metadata": {},
   "outputs": [],
   "source": [
    "model.compile(loss=\"sparse_categorical_crossentropy\",\n",
    "optimizer=\"adam\",\n",
    "metrics=[\"accuracy\"])"
   ]
  },
  {
   "cell_type": "code",
   "execution_count": null,
   "metadata": {},
   "outputs": [],
   "source": []
  },
  {
   "cell_type": "code",
   "execution_count": 11,
   "metadata": {},
   "outputs": [
    {
     "name": "stderr",
     "output_type": "stream",
     "text": [
      "2022-05-19 19:40:59.917662: I tensorflow/compiler/mlir/mlir_graph_optimization_pass.cc:185] None of the MLIR Optimization Passes are enabled (registered 2)\n"
     ]
    },
    {
     "name": "stdout",
     "output_type": "stream",
     "text": [
      "Epoch 1/500\n"
     ]
    },
    {
     "name": "stderr",
     "output_type": "stream",
     "text": [
      "2022-05-19 19:41:00.622131: I tensorflow/stream_executor/cuda/cuda_dnn.cc:369] Loaded cuDNN version 8201\n"
     ]
    },
    {
     "name": "stdout",
     "output_type": "stream",
     "text": [
      "62/62 [==============================] - 3s 13ms/step - loss: 0.2752 - accuracy: 0.8887 - val_loss: 0.5912 - val_accuracy: 0.5769\n",
      "Epoch 2/500\n",
      "62/62 [==============================] - 0s 7ms/step - loss: 0.1147 - accuracy: 0.9555 - val_loss: 1.4691 - val_accuracy: 0.5769\n",
      "Epoch 3/500\n",
      "62/62 [==============================] - 0s 8ms/step - loss: 0.0914 - accuracy: 0.9686 - val_loss: 1.6911 - val_accuracy: 0.5769\n",
      "Epoch 4/500\n",
      "62/62 [==============================] - 0s 7ms/step - loss: 0.0598 - accuracy: 0.9803 - val_loss: 1.4130 - val_accuracy: 0.5769\n",
      "Epoch 5/500\n",
      "62/62 [==============================] - 0s 8ms/step - loss: 0.0629 - accuracy: 0.9782 - val_loss: 1.1356 - val_accuracy: 0.6635\n",
      "Epoch 6/500\n",
      "62/62 [==============================] - 0s 7ms/step - loss: 0.0458 - accuracy: 0.9793 - val_loss: 1.4908 - val_accuracy: 0.6058\n",
      "Epoch 7/500\n",
      "62/62 [==============================] - 0s 7ms/step - loss: 0.0326 - accuracy: 0.9904 - val_loss: 0.3020 - val_accuracy: 0.9135\n",
      "Epoch 8/500\n",
      "62/62 [==============================] - 0s 8ms/step - loss: 0.0463 - accuracy: 0.9828 - val_loss: 0.2012 - val_accuracy: 0.9423\n",
      "Epoch 9/500\n",
      "62/62 [==============================] - 0s 7ms/step - loss: 0.0182 - accuracy: 0.9944 - val_loss: 0.1630 - val_accuracy: 0.9519\n",
      "Epoch 10/500\n",
      "62/62 [==============================] - 0s 7ms/step - loss: 0.0310 - accuracy: 0.9899 - val_loss: 1.3610 - val_accuracy: 0.6923\n",
      "Epoch 11/500\n",
      "62/62 [==============================] - 0s 8ms/step - loss: 0.0111 - accuracy: 0.9944 - val_loss: 0.0969 - val_accuracy: 0.9615\n",
      "Epoch 12/500\n",
      "62/62 [==============================] - 0s 7ms/step - loss: 0.0091 - accuracy: 0.9975 - val_loss: 0.6242 - val_accuracy: 0.8462\n",
      "Epoch 13/500\n",
      "62/62 [==============================] - 0s 7ms/step - loss: 0.0022 - accuracy: 1.0000 - val_loss: 0.2912 - val_accuracy: 0.9327\n",
      "Epoch 14/500\n",
      "62/62 [==============================] - 0s 8ms/step - loss: 6.5986e-04 - accuracy: 1.0000 - val_loss: 0.1031 - val_accuracy: 0.9615\n",
      "Epoch 15/500\n",
      "62/62 [==============================] - 0s 8ms/step - loss: 6.0000e-04 - accuracy: 1.0000 - val_loss: 0.1439 - val_accuracy: 0.9615\n",
      "Epoch 16/500\n",
      "62/62 [==============================] - 0s 8ms/step - loss: 4.8686e-04 - accuracy: 1.0000 - val_loss: 0.1223 - val_accuracy: 0.9519\n",
      "Epoch 17/500\n",
      "62/62 [==============================] - 0s 8ms/step - loss: 2.4322e-04 - accuracy: 1.0000 - val_loss: 0.0977 - val_accuracy: 0.9712\n",
      "Epoch 18/500\n",
      "62/62 [==============================] - 0s 8ms/step - loss: 8.2516e-05 - accuracy: 1.0000 - val_loss: 0.1122 - val_accuracy: 0.9712\n",
      "Epoch 19/500\n",
      "62/62 [==============================] - 0s 8ms/step - loss: 8.4270e-05 - accuracy: 1.0000 - val_loss: 0.1089 - val_accuracy: 0.9808\n",
      "Epoch 20/500\n",
      "62/62 [==============================] - 0s 8ms/step - loss: 8.3442e-05 - accuracy: 1.0000 - val_loss: 0.1050 - val_accuracy: 0.9808\n",
      "Epoch 21/500\n",
      "62/62 [==============================] - 0s 8ms/step - loss: 9.5818e-05 - accuracy: 1.0000 - val_loss: 0.1061 - val_accuracy: 0.9712\n",
      "Epoch 22/500\n",
      "62/62 [==============================] - 0s 8ms/step - loss: 4.3981e-05 - accuracy: 1.0000 - val_loss: 0.1145 - val_accuracy: 0.9712\n",
      "Epoch 23/500\n",
      "62/62 [==============================] - 0s 8ms/step - loss: 8.0941e-05 - accuracy: 1.0000 - val_loss: 0.1085 - val_accuracy: 0.9712\n",
      "Epoch 24/500\n",
      "62/62 [==============================] - 0s 8ms/step - loss: 3.2572e-05 - accuracy: 1.0000 - val_loss: 0.1072 - val_accuracy: 0.9808\n",
      "Epoch 25/500\n",
      "62/62 [==============================] - 0s 8ms/step - loss: 7.7673e-05 - accuracy: 1.0000 - val_loss: 0.1319 - val_accuracy: 0.9712\n",
      "Epoch 26/500\n",
      "62/62 [==============================] - 0s 8ms/step - loss: 3.7069e-05 - accuracy: 1.0000 - val_loss: 0.1289 - val_accuracy: 0.9712\n",
      "\n",
      "Epoch 00026: ReduceLROnPlateau reducing learning rate to 0.00010000000474974513.\n",
      "Epoch 27/500\n",
      "62/62 [==============================] - 0s 8ms/step - loss: 1.1250e-04 - accuracy: 1.0000 - val_loss: 0.1290 - val_accuracy: 0.9712\n",
      "Epoch 28/500\n",
      "62/62 [==============================] - 0s 7ms/step - loss: 3.2058e-05 - accuracy: 1.0000 - val_loss: 0.1305 - val_accuracy: 0.9712\n",
      "Epoch 29/500\n",
      "62/62 [==============================] - 0s 8ms/step - loss: 4.1051e-05 - accuracy: 1.0000 - val_loss: 0.1321 - val_accuracy: 0.9712\n",
      "Epoch 30/500\n",
      "62/62 [==============================] - 0s 8ms/step - loss: 6.5713e-05 - accuracy: 1.0000 - val_loss: 0.1291 - val_accuracy: 0.9712\n",
      "Epoch 31/500\n",
      "62/62 [==============================] - 0s 8ms/step - loss: 2.8932e-05 - accuracy: 1.0000 - val_loss: 0.1283 - val_accuracy: 0.9712\n",
      "Epoch 32/500\n",
      "62/62 [==============================] - 0s 8ms/step - loss: 2.8930e-05 - accuracy: 1.0000 - val_loss: 0.1279 - val_accuracy: 0.9712\n",
      "Epoch 33/500\n",
      "62/62 [==============================] - 0s 7ms/step - loss: 4.3156e-05 - accuracy: 1.0000 - val_loss: 0.1269 - val_accuracy: 0.9808\n",
      "\n",
      "Epoch 00033: ReduceLROnPlateau reducing learning rate to 1.0000000474974514e-05.\n",
      "Epoch 34/500\n",
      "62/62 [==============================] - 0s 8ms/step - loss: 2.9619e-05 - accuracy: 1.0000 - val_loss: 0.1269 - val_accuracy: 0.9808\n",
      "Epoch 35/500\n",
      "62/62 [==============================] - 0s 8ms/step - loss: 3.3685e-05 - accuracy: 1.0000 - val_loss: 0.1270 - val_accuracy: 0.9712\n",
      "Epoch 36/500\n",
      "62/62 [==============================] - 0s 8ms/step - loss: 2.4000e-05 - accuracy: 1.0000 - val_loss: 0.1271 - val_accuracy: 0.9712\n",
      "Epoch 37/500\n",
      "62/62 [==============================] - 0s 8ms/step - loss: 2.8166e-05 - accuracy: 1.0000 - val_loss: 0.1269 - val_accuracy: 0.9808\n",
      "Epoch 38/500\n",
      "62/62 [==============================] - 0s 8ms/step - loss: 4.0124e-05 - accuracy: 1.0000 - val_loss: 0.1272 - val_accuracy: 0.9712\n",
      "Epoch 39/500\n",
      "62/62 [==============================] - 0s 8ms/step - loss: 3.4113e-05 - accuracy: 1.0000 - val_loss: 0.1272 - val_accuracy: 0.9712\n"
     ]
    }
   ],
   "source": [
    "callbacks = [tf.keras.callbacks.ReduceLROnPlateau(monitor='val_accuracy', factor=0.1, patience=7, verbose=1, min_delta=1e-4, mode='max')]\n",
    "\n",
    "callbacks.append(tf.keras.callbacks.EarlyStopping(monitor='val_accuracy', patience=20, verbose=0, restore_best_weights=True))\n",
    "\n",
    "\n",
    "history = model.fit(X_train, y_train, epochs=500,\n",
    "                    validation_split=0.05,\n",
    "                    callbacks=callbacks\n",
    "                   )"
   ]
  },
  {
   "cell_type": "markdown",
   "metadata": {},
   "source": [
    "## VALIDANDO DE FORMA MAIS ELABORADA"
   ]
  },
  {
   "cell_type": "code",
   "execution_count": 12,
   "metadata": {},
   "outputs": [
    {
     "data": {
      "image/png": "[encoded data removed]",
      "text/plain": [
       "<Figure size 576x360 with 1 Axes>"
      ]
     },
     "metadata": {
      "needs_background": "light"
     },
     "output_type": "display_data"
    }
   ],
   "source": [
    "pd.DataFrame(history.history).plot(figsize=(8, 5))\n",
    "plt.grid(True)\n",
    "plt.gca().set_ylim(0, 1) # set the vertical range to [0-1]\n",
    "plt.xlabel('epoch')\n",
    "plt.show()"
   ]
  },
  {
   "cell_type": "code",
   "execution_count": 12,
   "metadata": {},
   "outputs": [
    {
     "name": "stdout",
     "output_type": "stream",
     "text": [
      "17/17 [==============================] - 0s 4ms/step - loss: 0.1602 - accuracy: 0.9692\n"
     ]
    },
    {
     "data": {
      "text/plain": [
       "[0.16023488342761993, 0.9692307710647583]"
      ]
     },
     "execution_count": 12,
     "metadata": {},
     "output_type": "execute_result"
    }
   ],
   "source": [
    "model.evaluate(X_test, y_test)"
   ]
  },
  {
   "cell_type": "markdown",
   "metadata": {},
   "source": [
    "## VISUALIZANDO A MATRIZ DE CONFUSÃO"
   ]
  },
  {
   "cell_type": "code",
   "execution_count": 14,
   "metadata": {},
   "outputs": [
    {
     "data": {
      "image/png": "[encoded data removed]",
      "text/plain": [
       "<Figure size 1080x720 with 2 Axes>"
      ]
     },
     "metadata": {
      "needs_background": "light"
     },
     "output_type": "display_data"
    }
   ],
   "source": [
    "cm = confusion_matrix(y_test,np.argmax(model.predict(X_test), axis=-1))\n",
    "\n",
    "disp = ConfusionMatrixDisplay(confusion_matrix=cm,\n",
    "                              display_labels=class_to_int)\n",
    "\n",
    "plt.rcParams['figure.figsize'] = [15, 10]\n",
    "\n",
    "disp.plot()\n",
    "\n",
    "plt.show()"
   ]
  }
 ],
 "metadata": {
  "kernelspec": {
   "display_name": "Python 3 (ipykernel)",
   "language": "python",
   "name": "python3"
  },
  "language_info": {
   "codemirror_mode": {
    "name": "ipython",
    "version": 3
   },
   "file_extension": ".py",
   "mimetype": "text/x-python",
   "name": "python",
   "nbconvert_exporter": "python",
   "pygments_lexer": "ipython3",
   "version": "3.8.13"
  }
 },
 "nbformat": 4,
 "nbformat_minor": 4
}
