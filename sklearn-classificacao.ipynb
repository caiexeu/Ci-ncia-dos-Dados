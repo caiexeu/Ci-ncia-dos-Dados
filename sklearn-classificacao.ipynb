{
 "cells": [
  {
   "cell_type": "markdown",
   "metadata": {},
   "source": [
    "#### CARREGANDO BIBLIOTECAS"
   ]
  },
  {
   "cell_type": "code",
   "execution_count": 1,
   "metadata": {},
   "outputs": [],
   "source": [
    "from sklearn.linear_model import LogisticRegression, RidgeClassifierCV, Perceptron\n",
    "from sklearn.tree import DecisionTreeClassifier\n",
    "from sklearn.ensemble import RandomForestClassifier\n",
    "from sklearn.model_selection import train_test_split, cross_val_score, cross_val_predict\n",
    "from sklearn.metrics import confusion_matrix\n",
    "from sklearn.manifold import TSNE\n",
    "\n",
    "from mpl_toolkits.mplot3d import Axes3D\n",
    "\n",
    "import pandas as pd\n",
    "import matplotlib.pyplot as plt\n",
    "\n",
    "import numpy as np"
   ]
  },
  {
   "cell_type": "markdown",
   "metadata": {},
   "source": [
    "#### CARREGANDO DADOS"
   ]
  },
  {
   "cell_type": "code",
   "execution_count": 2,
   "metadata": {
    "scrolled": true
   },
   "outputs": [
    {
     "data": {
      "text/html": [
       "<div>\n",
       "<style scoped>\n",
       "    .dataframe tbody tr th:only-of-type {\n",
       "        vertical-align: middle;\n",
       "    }\n",
       "\n",
       "    .dataframe tbody tr th {\n",
       "        vertical-align: top;\n",
       "    }\n",
       "\n",
       "    .dataframe thead th {\n",
       "        text-align: right;\n",
       "    }\n",
       "</style>\n",
       "<table border=\"1\" class=\"dataframe\">\n",
       "  <thead>\n",
       "    <tr style=\"text-align: right;\">\n",
       "      <th></th>\n",
       "      <th>x</th>\n",
       "      <th>y</th>\n",
       "      <th>target</th>\n",
       "      <th>x2</th>\n",
       "    </tr>\n",
       "  </thead>\n",
       "  <tbody>\n",
       "    <tr>\n",
       "      <th>290</th>\n",
       "      <td>0.233672</td>\n",
       "      <td>0.813998</td>\n",
       "      <td>C2</td>\n",
       "      <td>0.012759</td>\n",
       "    </tr>\n",
       "    <tr>\n",
       "      <th>360</th>\n",
       "      <td>0.404426</td>\n",
       "      <td>0.517810</td>\n",
       "      <td>C1</td>\n",
       "      <td>0.066148</td>\n",
       "    </tr>\n",
       "    <tr>\n",
       "      <th>330</th>\n",
       "      <td>0.378042</td>\n",
       "      <td>0.491851</td>\n",
       "      <td>C1</td>\n",
       "      <td>0.054028</td>\n",
       "    </tr>\n",
       "    <tr>\n",
       "      <th>304</th>\n",
       "      <td>0.384914</td>\n",
       "      <td>0.477536</td>\n",
       "      <td>C1</td>\n",
       "      <td>0.057028</td>\n",
       "    </tr>\n",
       "    <tr>\n",
       "      <th>334</th>\n",
       "      <td>0.335528</td>\n",
       "      <td>0.495757</td>\n",
       "      <td>C1</td>\n",
       "      <td>0.037773</td>\n",
       "    </tr>\n",
       "    <tr>\n",
       "      <th>...</th>\n",
       "      <td>...</td>\n",
       "      <td>...</td>\n",
       "      <td>...</td>\n",
       "      <td>...</td>\n",
       "    </tr>\n",
       "    <tr>\n",
       "      <th>37</th>\n",
       "      <td>0.389938</td>\n",
       "      <td>0.603757</td>\n",
       "      <td>C1</td>\n",
       "      <td>0.059291</td>\n",
       "    </tr>\n",
       "    <tr>\n",
       "      <th>215</th>\n",
       "      <td>0.084087</td>\n",
       "      <td>0.377271</td>\n",
       "      <td>C2</td>\n",
       "      <td>0.000595</td>\n",
       "    </tr>\n",
       "    <tr>\n",
       "      <th>226</th>\n",
       "      <td>0.077546</td>\n",
       "      <td>0.437791</td>\n",
       "      <td>C2</td>\n",
       "      <td>0.000466</td>\n",
       "    </tr>\n",
       "    <tr>\n",
       "      <th>160</th>\n",
       "      <td>0.654574</td>\n",
       "      <td>0.767079</td>\n",
       "      <td>C2</td>\n",
       "      <td>0.280463</td>\n",
       "    </tr>\n",
       "    <tr>\n",
       "      <th>14</th>\n",
       "      <td>0.295636</td>\n",
       "      <td>0.550357</td>\n",
       "      <td>C1</td>\n",
       "      <td>0.025839</td>\n",
       "    </tr>\n",
       "  </tbody>\n",
       "</table>\n",
       "<p>416 rows × 4 columns</p>\n",
       "</div>"
      ],
      "text/plain": [
       "            x         y target        x2\n",
       "290  0.233672  0.813998     C2  0.012759\n",
       "360  0.404426  0.517810     C1  0.066148\n",
       "330  0.378042  0.491851     C1  0.054028\n",
       "304  0.384914  0.477536     C1  0.057028\n",
       "334  0.335528  0.495757     C1  0.037773\n",
       "..        ...       ...    ...       ...\n",
       "37   0.389938  0.603757     C1  0.059291\n",
       "215  0.084087  0.377271     C2  0.000595\n",
       "226  0.077546  0.437791     C2  0.000466\n",
       "160  0.654574  0.767079     C2  0.280463\n",
       "14   0.295636  0.550357     C1  0.025839\n",
       "\n",
       "[416 rows x 4 columns]"
      ]
     },
     "execution_count": 2,
     "metadata": {},
     "output_type": "execute_result"
    }
   ],
   "source": [
    "df_dados = pd.read_csv('circulardata.csv',delimiter=',')\n",
    "\n",
    "df_dados = df_dados.sample(frac=1)\n",
    "\n",
    "potencia = 3\n",
    "\n",
    "df_dados['x2'] = df_dados['x']**potencia\n",
    "# df_dados['y2'] = df_dados['y']**potencia\n",
    "\n",
    "df_dados"
   ]
  },
  {
   "cell_type": "markdown",
   "metadata": {},
   "source": [
    "##### VISUALIZANDO DADOS"
   ]
  },
  {
   "cell_type": "code",
   "execution_count": 3,
   "metadata": {},
   "outputs": [
    {
     "data": {
      "image/png": "[encoded data removed]",
      "text/plain": [
       "<Figure size 432x288 with 1 Axes>"
      ]
     },
     "metadata": {
      "needs_background": "light"
     },
     "output_type": "display_data"
    }
   ],
   "source": [
    "df_dados_c1 = df_dados[df_dados['target'] == 'C1']\n",
    "df_dados_c2 = df_dados[df_dados['target'] == 'C2']\n",
    "\n",
    "plt.scatter(df_dados_c1['x'].array,df_dados_c1['y'].array,color='blue')\n",
    "plt.scatter(df_dados_c2['x'].array,df_dados_c2['y'].array,color='red')\n",
    "plt.title('Dados')\n",
    "plt.xlabel('x')\n",
    "plt.ylabel('y')\n",
    "plt.show()"
   ]
  },
  {
   "cell_type": "markdown",
   "metadata": {},
   "source": [
    "#### PREPARANDO DADOS"
   ]
  },
  {
   "cell_type": "code",
   "execution_count": 4,
   "metadata": {},
   "outputs": [
    {
     "data": {
      "text/html": [
       "<div>\n",
       "<style scoped>\n",
       "    .dataframe tbody tr th:only-of-type {\n",
       "        vertical-align: middle;\n",
       "    }\n",
       "\n",
       "    .dataframe tbody tr th {\n",
       "        vertical-align: top;\n",
       "    }\n",
       "\n",
       "    .dataframe thead th {\n",
       "        text-align: right;\n",
       "    }\n",
       "</style>\n",
       "<table border=\"1\" class=\"dataframe\">\n",
       "  <thead>\n",
       "    <tr style=\"text-align: right;\">\n",
       "      <th></th>\n",
       "      <th>x</th>\n",
       "      <th>y</th>\n",
       "      <th>x2</th>\n",
       "    </tr>\n",
       "  </thead>\n",
       "  <tbody>\n",
       "    <tr>\n",
       "      <th>290</th>\n",
       "      <td>0.233672</td>\n",
       "      <td>0.813998</td>\n",
       "      <td>0.012759</td>\n",
       "    </tr>\n",
       "    <tr>\n",
       "      <th>360</th>\n",
       "      <td>0.404426</td>\n",
       "      <td>0.517810</td>\n",
       "      <td>0.066148</td>\n",
       "    </tr>\n",
       "    <tr>\n",
       "      <th>330</th>\n",
       "      <td>0.378042</td>\n",
       "      <td>0.491851</td>\n",
       "      <td>0.054028</td>\n",
       "    </tr>\n",
       "    <tr>\n",
       "      <th>304</th>\n",
       "      <td>0.384914</td>\n",
       "      <td>0.477536</td>\n",
       "      <td>0.057028</td>\n",
       "    </tr>\n",
       "    <tr>\n",
       "      <th>334</th>\n",
       "      <td>0.335528</td>\n",
       "      <td>0.495757</td>\n",
       "      <td>0.037773</td>\n",
       "    </tr>\n",
       "    <tr>\n",
       "      <th>...</th>\n",
       "      <td>...</td>\n",
       "      <td>...</td>\n",
       "      <td>...</td>\n",
       "    </tr>\n",
       "    <tr>\n",
       "      <th>37</th>\n",
       "      <td>0.389938</td>\n",
       "      <td>0.603757</td>\n",
       "      <td>0.059291</td>\n",
       "    </tr>\n",
       "    <tr>\n",
       "      <th>215</th>\n",
       "      <td>0.084087</td>\n",
       "      <td>0.377271</td>\n",
       "      <td>0.000595</td>\n",
       "    </tr>\n",
       "    <tr>\n",
       "      <th>226</th>\n",
       "      <td>0.077546</td>\n",
       "      <td>0.437791</td>\n",
       "      <td>0.000466</td>\n",
       "    </tr>\n",
       "    <tr>\n",
       "      <th>160</th>\n",
       "      <td>0.654574</td>\n",
       "      <td>0.767079</td>\n",
       "      <td>0.280463</td>\n",
       "    </tr>\n",
       "    <tr>\n",
       "      <th>14</th>\n",
       "      <td>0.295636</td>\n",
       "      <td>0.550357</td>\n",
       "      <td>0.025839</td>\n",
       "    </tr>\n",
       "  </tbody>\n",
       "</table>\n",
       "<p>416 rows × 3 columns</p>\n",
       "</div>"
      ],
      "text/plain": [
       "            x         y        x2\n",
       "290  0.233672  0.813998  0.012759\n",
       "360  0.404426  0.517810  0.066148\n",
       "330  0.378042  0.491851  0.054028\n",
       "304  0.384914  0.477536  0.057028\n",
       "334  0.335528  0.495757  0.037773\n",
       "..        ...       ...       ...\n",
       "37   0.389938  0.603757  0.059291\n",
       "215  0.084087  0.377271  0.000595\n",
       "226  0.077546  0.437791  0.000466\n",
       "160  0.654574  0.767079  0.280463\n",
       "14   0.295636  0.550357  0.025839\n",
       "\n",
       "[416 rows x 3 columns]"
      ]
     },
     "execution_count": 4,
     "metadata": {},
     "output_type": "execute_result"
    }
   ],
   "source": [
    "target = df_dados['target'].array\n",
    "\n",
    "df_features = df_dados.drop(columns=['target'])\n",
    "\n",
    "df_features"
   ]
  },
  {
   "cell_type": "code",
   "execution_count": 5,
   "metadata": {},
   "outputs": [
    {
     "name": "stderr",
     "output_type": "stream",
     "text": [
      "/home/carlos/.local/lib/python3.8/site-packages/sklearn/manifold/_t_sne.py:780: FutureWarning: The default initialization in TSNE will change from 'random' to 'pca' in 1.2.\n",
      "  warnings.warn(\n",
      "/home/carlos/.local/lib/python3.8/site-packages/sklearn/manifold/_t_sne.py:790: FutureWarning: The default learning rate in TSNE will change from 200.0 to 'auto' in 1.2.\n",
      "  warnings.warn(\n"
     ]
    },
    {
     "data": {
      "image/png": "[encoded data removed]",
      "text/plain": [
       "<Figure size 432x288 with 1 Axes>"
      ]
     },
     "metadata": {
      "needs_background": "light"
     },
     "output_type": "display_data"
    }
   ],
   "source": [
    "if 'x2' in df_dados.columns:    \n",
    "    model = TSNE(n_components=2, random_state=0)\n",
    "    array_red = model.fit_transform(df_features) \n",
    "\n",
    "    df_tsne = pd.DataFrame(array_red)\n",
    "\n",
    "    df_tsne['target'] = target\n",
    "\n",
    "    df_tsne_c1 = df_tsne[df_tsne['target'] == 'C1']\n",
    "    df_tsne_c2 = df_tsne[df_tsne['target'] == 'C2']\n",
    "\n",
    "    plt.scatter(df_tsne_c1[0].array,df_tsne_c1[1].array,marker='o',color='blue')\n",
    "    plt.scatter(df_tsne_c2[0].array,df_tsne_c2[1].array,marker='o',color='red')\n",
    "    plt.title('Dados')\n",
    "    plt.xlabel('x')\n",
    "    plt.ylabel('y')\n",
    "\n",
    "    plt.show()"
   ]
  },
  {
   "cell_type": "code",
   "execution_count": 6,
   "metadata": {},
   "outputs": [
    {
     "data": {
      "image/png": "[encoded data removed]",
      "text/plain": [
       "<Figure size 432x288 with 1 Axes>"
      ]
     },
     "metadata": {
      "needs_background": "light"
     },
     "output_type": "display_data"
    }
   ],
   "source": [
    "if 'x2' in df_dados.columns:\n",
    "    ax = plt.axes(projection='3d')\n",
    "    ax.scatter3D(df_dados_c1['x'].array,df_dados_c1['y'].array,df_dados_c1['x2'].array, color='blue');\n",
    "    ax.scatter3D(df_dados_c2['x'].array,df_dados_c2['y'].array,df_dados_c2['x2'].array, color='red');\n",
    "    plt.show()"
   ]
  },
  {
   "cell_type": "markdown",
   "metadata": {},
   "source": [
    "#### TREINANDO E VALIDANDO O MODELO"
   ]
  },
  {
   "cell_type": "code",
   "execution_count": 7,
   "metadata": {},
   "outputs": [],
   "source": [
    "def getModel():\n",
    "    return LogisticRegression()\n",
    "#     return DecisionTreeClassifier()\n",
    "#     return RandomForestClassifier()"
   ]
  },
  {
   "cell_type": "code",
   "execution_count": 8,
   "metadata": {},
   "outputs": [
    {
     "data": {
      "text/plain": [
       "0.8333333333333334"
      ]
     },
     "execution_count": 8,
     "metadata": {},
     "output_type": "execute_result"
    }
   ],
   "source": [
    "X_treino, X_teste, y_treino, y_teste = train_test_split(df_features.values,target,test_size=0.1)\n",
    "\n",
    "modelo = getModel().fit(X_treino,y_treino)\n",
    "\n",
    "score = modelo.score(X_teste,y_teste)\n",
    "\n",
    "score"
   ]
  },
  {
   "cell_type": "markdown",
   "metadata": {},
   "source": [
    "#### VALIDAÇÃO DE FORMA MAIS ELABORADA"
   ]
  },
  {
   "cell_type": "code",
   "execution_count": 9,
   "metadata": {
    "scrolled": true
   },
   "outputs": [
    {
     "data": {
      "text/plain": [
       "0.8943670150987224"
      ]
     },
     "execution_count": 9,
     "metadata": {},
     "output_type": "execute_result"
    }
   ],
   "source": [
    "scores = cross_val_score(getModel(),df_features.values,target,cv=10)\n",
    "\n",
    "scores.mean()"
   ]
  },
  {
   "cell_type": "markdown",
   "metadata": {},
   "source": [
    "#### MATRIZ DE CONFUSÃO"
   ]
  },
  {
   "cell_type": "code",
   "execution_count": 10,
   "metadata": {},
   "outputs": [
    {
     "data": {
      "text/html": [
       "<div>\n",
       "<style scoped>\n",
       "    .dataframe tbody tr th:only-of-type {\n",
       "        vertical-align: middle;\n",
       "    }\n",
       "\n",
       "    .dataframe tbody tr th {\n",
       "        vertical-align: top;\n",
       "    }\n",
       "\n",
       "    .dataframe thead th {\n",
       "        text-align: right;\n",
       "    }\n",
       "</style>\n",
       "<table border=\"1\" class=\"dataframe\">\n",
       "  <thead>\n",
       "    <tr style=\"text-align: right;\">\n",
       "      <th></th>\n",
       "      <th>C1</th>\n",
       "      <th>C2</th>\n",
       "    </tr>\n",
       "  </thead>\n",
       "  <tbody>\n",
       "    <tr>\n",
       "      <th>0</th>\n",
       "      <td>178</td>\n",
       "      <td>18</td>\n",
       "    </tr>\n",
       "    <tr>\n",
       "      <th>1</th>\n",
       "      <td>26</td>\n",
       "      <td>194</td>\n",
       "    </tr>\n",
       "  </tbody>\n",
       "</table>\n",
       "</div>"
      ],
      "text/plain": [
       "    C1   C2\n",
       "0  178   18\n",
       "1   26  194"
      ]
     },
     "execution_count": 10,
     "metadata": {},
     "output_type": "execute_result"
    }
   ],
   "source": [
    "predicoes = cross_val_predict(getModel(), df_features.values, target, cv=10)\n",
    "\n",
    "cm = confusion_matrix(target,predicoes,labels=[\"C1\", \"C2\"])\n",
    "\n",
    "cm_df = pd.DataFrame(cm, columns=[\"C1\", \"C2\"])\n",
    "\n",
    "cm_df"
   ]
  }
 ],
 "metadata": {
  "kernelspec": {
   "display_name": "Python 3",
   "language": "python",
   "name": "python3"
  },
  "language_info": {
   "codemirror_mode": {
    "name": "ipython",
    "version": 3
   },
   "file_extension": ".py",
   "mimetype": "text/x-python",
   "name": "python",
   "nbconvert_exporter": "python",
   "pygments_lexer": "ipython3",
   "version": "3.8.12"
  }
 },
 "nbformat": 4,
 "nbformat_minor": 4
}
