<html><head>
<meta http-equiv="content-type" content="text/html; charset=UTF-8"></head><body>{
 "cells": [
  {
   "cell_type": "markdown",
   "id": "specialized-reduction",
   "metadata": {},
   "source": [
    "#### IMPORTANDO BIBLIOTECAS"
   ]
  },
  {
   "cell_type": "code",
   "execution_count": 1,
   "id": "pleased-phone",
   "metadata": {},
   "outputs": [],
   "source": [
    "import pandas as pd\n",
    "import numpy as np\n",
    "import matplotlib.pyplot as plt\n",
    "\n",
    "from sklearn.linear_model import LinearRegression\n",
    "from sklearn.ensemble import RandomForestRegressor\n",
    "from sklearn.model_selection import train_test_split, 
cross_val_predict, cross_val_score\n",
    "from sklearn.datasets import load_boston\n",
    "from sklearn.decomposition import PCA\n",
    "from sklearn.manifold import TSNE\n",
    "from mpl_toolkits.mplot3d import Axes3D"
   ]
  },
  {
   "cell_type": "markdown",
   "id": "champion-producer",
   "metadata": {},
   "source": [
    "#### CARREGANDO DADOS"
   ]
  },
  {
   "cell_type": "code",
   "execution_count": 2,
   "id": "afraid-letters",
   "metadata": {},
   "outputs": [
    {
     "name": "stderr",
     "output_type": "stream",
     "text": [
      
"/home/carlos/.local/lib/python3.8/site-packages/sklearn/utils/deprecation.py:87:
 FutureWarning: Function load_boston is deprecated; `load_boston` is 
deprecated in 1.0 and will be removed in 1.2.\n",
      "\n",
      "    The Boston housing prices dataset has an ethical problem. You
 can refer to\n",
      "    the documentation of this function for further details.\n",
      "\n",
      "    The scikit-learn maintainers therefore strongly discourage 
the use of this\n",
      "    dataset unless the purpose of the code is to study and 
educate about\n",
      "    ethical issues in data science and machine learning.\n",
      "\n",
      "    In this special case, you can fetch the dataset from the 
original\n",
      "    source::\n",
      "\n",
      "        import pandas as pd\n",
      "        import numpy as np\n",
      "\n",
      "\n",
      "        data_url = 
\"http://lib.stat.cmu.edu/datasets/boston\"\n",
      "        raw_df = pd.read_csv(data_url, sep=\"\\s+\", skiprows=22,
 header=None)\n",
      "        data = np.hstack([raw_df.values[::2, :], 
raw_df.values[1::2, :2]])\n",
      "        target = raw_df.values[1::2, 2]\n",
      "\n",
      "    Alternative datasets include the California housing dataset 
(i.e.\n",
      "    :func:`~sklearn.datasets.fetch_california_housing`) and the 
Ames housing\n",
      "    dataset. You can load the datasets as follows::\n",
      "\n",
      "        from sklearn.datasets import fetch_california_housing\n",
      "        housing = fetch_california_housing()\n",
      "\n",
      "    for the California housing dataset and::\n",
      "\n",
      "        from sklearn.datasets import fetch_openml\n",
      "        housing = fetch_openml(name=\"house_prices\", 
as_frame=True)\n",
      "\n",
      "    for the Ames housing dataset.\n",
      "    \n",
      "  warnings.warn(msg, category=FutureWarning)\n"
     ]
    },
    {
     "data": {
      "text/html": [
       "<div>\n",
       "<style scoped="">\n",
       "    .dataframe tbody tr th:only-of-type {\n",
       "        vertical-align: middle;\n",
       "    }\n",
       "\n",
       "    .dataframe tbody tr th {\n",
       "        vertical-align: top;\n",
       "    }\n",
       "\n",
       "    .dataframe thead th {\n",
       "        text-align: right;\n",
       "    }\n",
       "</style>\n",
       "\n",
       "  \n",
       "    \n",
       "      \n",
       "      \n",
       "      \n",
       "      \n",
       "      \n",
       "      \n",
       "      \n",
       "      \n",
       "      \n",
       "      \n",
       "      \n",
       "      \n",
       "      \n",
       "      \n",
       "      \n",
       "    \n",
       "  \n",
       "  \n",
       "    \n",
       "      \n",
       "      \n",
       "      \n",
       "      \n",
       "      \n",
       "      \n",
       "      \n",
       "      \n",
       "      \n",
       "      \n",
       "      \n",
       "      \n",
       "      \n",
       "      \n",
       "      \n",
       "    \n",
       "    \n",
       "      \n",
       "      \n",
       "      \n",
       "      \n",
       "      \n",
       "      \n",
       "      \n",
       "      \n",
       "      \n",
       "      \n",
       "      \n",
       "      \n",
       "      \n",
       "      \n",
       "      \n",
       "    \n",
       "    \n",
       "      \n",
       "      \n",
       "      \n",
       "      \n",
       "      \n",
       "      \n",
       "      \n",
       "      \n",
       "      \n",
       "      \n",
       "      \n",
       "      \n",
       "      \n",
       "      \n",
       "      \n",
       "    \n",
       "    \n",
       "      \n",
       "      \n",
       "      \n",
       "      \n",
       "      \n",
       "      \n",
       "      \n",
       "      \n",
       "      \n",
       "      \n",
       "      \n",
       "      \n",
       "      \n",
       "      \n",
       "      \n",
       "    \n",
       "    \n",
       "      \n",
       "      \n",
       "      \n",
       "      \n",
       "      \n",
       "      \n",
       "      \n",
       "      \n",
       "      \n",
       "      \n",
       "      \n",
       "      \n",
       "      \n",
       "      \n",
       "      \n",
       "    \n",
       "    \n",
       "      \n",
       "      \n",
       "      \n",
       "      \n",
       "      \n",
       "      \n",
       "      \n",
       "      \n",
       "      \n",
       "      \n",
       "      \n",
       "      \n",
       "      \n",
       "      \n",
       "      \n",
       "    \n",
       "    \n",
       "      \n",
       "      \n",
       "      \n",
       "      \n",
       "      \n",
       "      \n",
       "      \n",
       "      \n",
       "      \n",
       "      \n",
       "      \n",
       "      \n",
       "      \n",
       "      \n",
       "      \n",
       "    \n",
       "    \n",
       "      \n",
       "      \n",
       "      \n",
       "      \n",
       "      \n",
       "      \n",
       "      \n",
       "      \n",
       "      \n",
       "      \n",
       "      \n",
       "      \n",
       "      \n",
       "      \n",
       "      \n",
       "    \n",
       "    \n",
       "      \n",
       "      \n",
       "      \n",
       "      \n",
       "      \n",
       "      \n",
       "      \n",
       "      \n",
       "      \n",
       "      \n",
       "      \n",
       "      \n",
       "      \n",
       "      \n",
       "      \n",
       "    \n",
       "    \n",
       "      \n",
       "      \n",
       "      \n",
       "      \n",
       "      \n",
       "      \n",
       "      \n",
       "      \n",
       "      \n",
       "      \n",
       "      \n",
       "      \n",
       "      \n",
       "      \n",
       "      \n",
       "    \n",
       "    \n",
       "      \n",
       "      \n",
       "      \n",
       "      \n",
       "      \n",
       "      \n",
       "      \n",
       "      \n",
       "      \n",
       "      \n",
       "      \n",
       "      \n",
       "      \n",
       "      \n",
       "      \n",
       "    \n",
       "  \n",
       "<table class="\&quot;dataframe\&quot;" border="\&quot;1\&quot;"><thead><tr style="\&quot;text-align:" right;\"=""><th></th><th>CRIM</th><th>ZN</th><th>INDUS</th><th>CHAS</th><th>NOX</th><th>RM</th><th>AGE</th><th>DIS</th><th>RAD</th><th>TAX</th><th>PTRATIO</th><th>B</th><th>LSTAT</th><th>target</th></tr></thead><tbody><tr><th>236</th><td>0.52058</td><td>0.0</td><td>6.20</td><td>1.0</td><td>0.507</td><td>6.631</td><td>76.5</td><td>4.1480</td><td>8.0</td><td>307.0</td><td>17.4</td><td>388.45</td><td>9.54</td><td>25.1</td></tr><tr><th>133</th><td>0.32982</td><td>0.0</td><td>21.89</td><td>0.0</td><td>0.624</td><td>5.822</td><td>95.4</td><td>2.4699</td><td>4.0</td><td>437.0</td><td>21.2</td><td>388.69</td><td>15.03</td><td>18.4</td></tr><tr><th>123</th><td>0.15038</td><td>0.0</td><td>25.65</td><td>0.0</td><td>0.581</td><td>5.856</td><td>97.0</td><td>1.9444</td><td>2.0</td><td>188.0</td><td>19.1</td><td>370.31</td><td>25.41</td><td>17.3</td></tr><tr><th>127</th><td>0.25915</td><td>0.0</td><td>21.89</td><td>0.0</td><td>0.624</td><td>5.693</td><td>96.0</td><td>1.7883</td><td>4.0</td><td>437.0</td><td>21.2</td><td>392.11</td><td>17.19</td><td>16.2</td></tr><tr><th>373</th><td>11.10810</td><td>0.0</td><td>18.10</td><td>0.0</td><td>0.668</td><td>4.906</td><td>100.0</td><td>1.1742</td><td>24.0</td><td>666.0</td><td>20.2</td><td>396.90</td><td>34.77</td><td>13.8</td></tr><tr><th>...</th><td>...</td><td>...</td><td>...</td><td>...</td><td>...</td><td>...</td><td>...</td><td>...</td><td>...</td><td>...</td><td>...</td><td>...</td><td>...</td><td>...</td></tr><tr><th>488</th><td>0.15086</td><td>0.0</td><td>27.74</td><td>0.0</td><td>0.609</td><td>5.454</td><td>92.7</td><td>1.8209</td><td>4.0</td><td>711.0</td><td>20.1</td><td>395.09</td><td>18.06</td><td>15.2</td></tr><tr><th>205</th><td>0.13642</td><td>0.0</td><td>10.59</td><td>0.0</td><td>0.489</td><td>5.891</td><td>22.3</td><td>3.9454</td><td>4.0</td><td>277.0</td><td>18.6</td><td>396.90</td><td>10.87</td><td>22.6</td></tr><tr><th>147</th><td>2.36862</td><td>0.0</td><td>19.58</td><td>0.0</td><td>0.871</td><td>4.926</td><td>95.7</td><td>1.4608</td><td>5.0</td><td>403.0</td><td>14.7</td><td>391.71</td><td>29.53</td><td>14.6</td></tr><tr><th>364</th><td>3.47428</td><td>0.0</td><td>18.10</td><td>1.0</td><td>0.718</td><td>8.780</td><td>82.9</td><td>1.9047</td><td>24.0</td><td>666.0</td><td>20.2</td><td>354.55</td><td>5.29</td><td>21.9</td></tr><tr><th>286</th><td>0.01965</td><td>80.0</td><td>1.76</td><td>0.0</td><td>0.385</td><td>6.230</td><td>31.5</td><td>9.0892</td><td>1.0</td><td>241.0</td><td>18.2</td><td>341.60</td><td>12.93</td><td>20.1</td></tr></tbody></table>\n",
       "<p>506 rows × 14 columns</p>\n",
       "</div>"
      ],
      "text/plain": [
       "         CRIM    ZN  INDUS  CHAS    NOX     RM    AGE     DIS   RAD    TAX  \\\n",
       "236   0.52058   0.0   6.20   1.0  0.507  6.631   76.5  4.1480   8.0  307.0   \n",
       "133   0.32982   0.0  21.89   0.0  0.624  5.822   95.4  2.4699   4.0  437.0   \n",
       "123   0.15038   0.0  25.65   0.0  0.581  5.856   97.0  1.9444   2.0  188.0   \n",
       "127   0.25915   0.0  21.89   0.0  0.624  5.693   96.0  1.7883   4.0  437.0   \n",
       "373  11.10810   0.0  18.10   0.0  0.668  4.906  100.0  1.1742  24.0  666.0   \n",
       "..        ...   ...    ...   ...    ...    ...    ...     ...   ...    ...   \n",
       "488   0.15086   0.0  27.74   0.0  0.609  5.454   92.7  1.8209   4.0  711.0   \n",
       "205   0.13642   0.0  10.59   0.0  0.489  5.891   22.3  3.9454   4.0  277.0   \n",
       "147   2.36862   0.0  19.58   0.0  0.871  4.926   95.7  1.4608   5.0  403.0   \n",
       "364   3.47428   0.0  18.10   1.0  0.718  8.780   82.9  1.9047  24.0  666.0   \n",
       "286   0.01965  80.0   1.76   0.0  0.385  6.230   31.5  9.0892   1.0  241.0   \n",
       "\n",
       "     PTRATIO       B  LSTAT  target  \n",
       "236     17.4  388.45   9.54    25.1  \n",
       "133     21.2  388.69  15.03    18.4  \n",
       "123     19.1  370.31  25.41    17.3  \n",
       "127     21.2  392.11  17.19    16.2  \n",
       "373     20.2  396.90  34.77    13.8  \n",
       "..       ...     ...    ...     ...  \n",
       "488     20.1  395.09  18.06    15.2  \n",
       "205     18.6  396.90  10.87    22.6  \n",
       "147     14.7  391.71  29.53    14.6  \n",
       "364     20.2  354.55   5.29    21.9  \n",
       "286     18.2  341.60  12.93    20.1  \n",
       "\n",
       "[506 rows x 14 columns]"
      ]
     },
     "execution_count": 2,
     "metadata": {},
     "output_type": "execute_result"
    }
   ],
   "source": [
    "dados = load_boston()\n",
    "\n",
    "df_dados = pd.DataFrame(dados.data, columns=dados.feature_names)\n",
    "\n",
    "df_target = pd.DataFrame(dados.target)\n",
    "\n",
    "df_dados['target'] = df_target[0]\n",
    "\n",
    "df_dados = df_dados.sample(frac=1)\n",
    "\n",
    "df_dados"
   ]
  },
  {
   "cell_type": "code",
   "execution_count": 13,
   "id": "gentle-deposit",
   "metadata": {},
   "outputs": [
    {
     "name": "stdout",
     "output_type": "stream",
     "text": [
      "<class 'pandas.core.frame.dataframe'="">\n",
      "Int64Index: 506 entries, 236 to 286\n",
      "Data columns (total 14 columns):\n",
      " #   Column   Non-Null Count  Dtype  \n",
      "---  ------   --------------  -----  \n",
      " 0   CRIM     506 non-null    float64\n",
      " 1   ZN       506 non-null    float64\n",
      " 2   INDUS    506 non-null    float64\n",
      " 3   CHAS     506 non-null    float64\n",
      " 4   NOX      506 non-null    float64\n",
      " 5   RM       506 non-null    float64\n",
      " 6   AGE      506 non-null    float64\n",
      " 7   DIS      506 non-null    float64\n",
      " 8   RAD      506 non-null    float64\n",
      " 9   TAX      506 non-null    float64\n",
      " 10  PTRATIO  506 non-null    float64\n",
      " 11  B        506 non-null    float64\n",
      " 12  LSTAT    506 non-null    float64\n",
      " 13  target   506 non-null    float64\n",
      "dtypes: float64(14)\n",
      "memory usage: 59.3 KB\n"
     ]
    }
   ],
   "source": [
    "df_dados.info()"
   ]
  },
  {
   "cell_type": "markdown",
   "id": "separate-wilson",
   "metadata": {},
   "source": [
    "#### PREPARANDO DADOS"
   ]
  },
  {
   "cell_type": "code",
   "execution_count": 3,
   "id": "applied-balance",
   "metadata": {},
   "outputs": [],
   "source": [
    "y_true = df_dados['target'].array\n",
    "\n",
    "X = df_dados.drop(columns=['target']).values"
   ]
  },
  {
   "cell_type": "markdown",
   "id": "executive-transaction",
   "metadata": {},
   "source": [
    "#### VISUALIZANDO DADOS"
   ]
  },
  {
   "cell_type": "code",
   "execution_count": 4,
   "id": "separate-yesterday",
   "metadata": {},
   "outputs": [
    {
     "data": {
      "image/png": 
"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\n",

      "text/plain": [
       "<figure size="" 432x288="" with="" 1="" axes="">"
      ]
     },
     "metadata": {
      "needs_background": "light"
     },
     "output_type": "display_data"
    }
   ],
   "source": [
    "pca = PCA(n_components=1)\n",
    "array_red = pca.fit_transform(X)\n",
    "\n",
    "df_red = pd.DataFrame(array_red, columns=['PC1'])\n",
    "\n",
    "df_red['target'] = y_true\n",
    "\n",
    "plt.scatter(df_red['PC1'],df_red['target'])\n",
    "plt.xlabel('PC1')\n",
    "plt.ylabel('Y_TRUE')\n",
    "plt.show()"
   ]
  },
  {
   "cell_type": "markdown",
   "id": "organizational-ministry",
   "metadata": {},
   "source": [
    "#### TREINANDO E VALIDANDO NOSSO MODELO"
   ]
  },
  {
   "cell_type": "code",
   "execution_count": 5,
   "id": "demonstrated-peninsula",
   "metadata": {},
   "outputs": [],
   "source": [
    "def getModel():\n",
    "#     return LinearRegression()\n",
    "    return RandomForestRegressor()"
   ]
  },
  {
   "cell_type": "code",
   "execution_count": 6,
   "id": "independent-southeast",
   "metadata": {},
   "outputs": [
    {
     "data": {
      "text/plain": [
       "0.9156591111624767"
      ]
     },
     "execution_count": 6,
     "metadata": {},
     "output_type": "execute_result"
    }
   ],
   "source": [
    "X_train, X_test, y_train, y_test = train_test_split(X, y_true, 
test_size=0.2)\n",
    "\n",
    "model = getModel().fit(X_train, y_train)\n",
    "\n",
    "model.score(X_test, y_test)"
   ]
  },
  {
   "cell_type": "markdown",
   "id": "buried-weapon",
   "metadata": {},
   "source": [
    "#### VALIDANDO DE MANEIRA MAIS ELABORADA"
   ]
  },
  {
   "cell_type": "code",
   "execution_count": 7,
   "id": "czech-spain",
   "metadata": {},
   "outputs": [
    {
     "data": {
      "text/plain": [
       "0.8584794758986212"
      ]
     },
     "execution_count": 7,
     "metadata": {},
     "output_type": "execute_result"
    }
   ],
   "source": [
    "scores = cross_val_score(getModel(),X,y_true,cv=10)\n",
    "\n",
    "np.mean(scores)"
   ]
  },
  {
   "cell_type": "markdown",
   "id": "marked-petite",
   "metadata": {},
   "source": [
    "#### PREDITO X REAL"
   ]
  },
  {
   "cell_type": "code",
   "execution_count": 8,
   "id": "naval-replication",
   "metadata": {},
   "outputs": [
    {
     "data": {
      "image/png": 
"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\n",

      "text/plain": [
       "<figure size="" 432x288="" with="" 1="" axes="">"
      ]
     },
     "metadata": {
      "needs_background": "light"
     },
     "output_type": "display_data"
    }
   ],
   "source": [
    "y_pred = cross_val_predict(getModel(),X,y_true,cv=10)\n",
    "\n",
    "plt.scatter(y_true,y_pred)\n",
    "plt.xlabel('real')\n",
    "plt.ylabel('predito')\n",
    "plt.show()"
   ]
  }
 ],
 "metadata": {
  "kernelspec": {
   "display_name": "Python 3",
   "language": "python",
   "name": "python3"
  },
  "language_info": {
   "codemirror_mode": {
    "name": "ipython",
    "version": 3
   },
   "file_extension": ".py",
   "mimetype": "text/x-python",
   "name": "python",
   "nbconvert_exporter": "python",
   "pygments_lexer": "ipython3",
   "version": "3.8.12"
  }
 },
 "nbformat": 4,
 "nbformat_minor": 5
}
</figure></figure></class></body></html>